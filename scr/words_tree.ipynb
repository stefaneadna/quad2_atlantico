{
 "cells": [
  {
   "cell_type": "code",
   "execution_count": 1,
   "metadata": {},
   "outputs": [],
   "source": [
    "from heapq import nlargest\n",
    "import matplotlib.pyplot as plt\n",
    "import networkx as nx"
   ]
  },
  {
   "cell_type": "code",
   "execution_count": 2,
   "metadata": {},
   "outputs": [],
   "source": [
    "def plotNx(words:dict, edges:list, tamanho:dict):\n",
    "    \"\"\"\n",
    "    \"\"\"\n",
    "    # Definindo a área de plotagem e instanciando NX\n",
    "    plt.subplots(figsize=(12,6))\n",
    "    G = nx.Graph()\n",
    "\n",
    "    # Nodes and Edges\n",
    "    G.add_nodes_from( words )\n",
    "    G.add_edges_from( edges )\n",
    "\n",
    "    # Atribuindo cores e tamanhos aos nós\n",
    "    node_color = [ 'orange' if i in words else 'skyblue' for i in G ]\n",
    "    node_size = [ int(tamanho[node]*2000) if node in words else 350 for node in G ]\n",
    "\n",
    "    # Construindo o gráfico:\n",
    "    nx.draw_kamada_kawai( G, with_labels=True, \\\n",
    "            width=3, node_size=node_size, node_color=node_color, \\\n",
    "            edge_color=\"gray\", style=\"solid\" )\n",
    "    plt.show()"
   ]
  },
  {
   "cell_type": "code",
   "execution_count": 3,
   "metadata": {},
   "outputs": [],
   "source": [
    "def get_topn_words(top:int, tf_idf:dict) -> list:\n",
    "    \"\"\"Retorna os top primeiros maiores de uma lista\n",
    "    com base nos seus pesos.\n",
    "\n",
    "    params:\n",
    "    ======\n",
    "      top (int) Informa até qual posição ordinal se\n",
    "        deseja calcular.\n",
    "      tf_idf (dict) Dicionário contendo como chaves\n",
    "        como chaves as palavras e valores como pesos.\n",
    "    retorno:\n",
    "    =======\n",
    "      (list) Retorna uma lista das primeiras 'top'\n",
    "        palavras.\n",
    "    \"\"\"\n",
    "    return nlargest( top, tf_idf, key = tf_idf.get )"
   ]
  },
  {
   "cell_type": "code",
   "execution_count": 4,
   "metadata": {},
   "outputs": [],
   "source": [
    "def draw_graphic(qtd_pnts_central:int, tf_idf:dict, tokens_and_words:dict):\n",
    "    \"\"\" Gera o gráfico de palavras\n",
    "\n",
    "    params:\n",
    "    ======\n",
    "      qtd_pnts_central (int) é a quantidade de pontos\n",
    "        centrais do gráfico. Ou seja, as principais\n",
    "        palavras.\n",
    "      tf_idf (dict) é um dicionário contendo as palavras\n",
    "        como chaves e os valores como peso.\n",
    "      tokens_and_words (dict) é o conjunto de todas as\n",
    "        palavras do texto formado por tokens e palavras.\n",
    "    \"\"\"\n",
    "    # Obtem as n principais palavras\n",
    "    palavras_centrais = get_topn_words(qtd_pnts_central, tf_idf)\n",
    "\n",
    "    # Obtem os vértices\n",
    "    edges = [ (i, j[k]) \\\n",
    "      for i, j in tokens_and_words.items() \\\n",
    "            if i in palavras_centrais for k in range(len(j)) ]\n",
    "    \n",
    "    # Chama a plotagem\n",
    "    plotNx(tokens_and_words, edges, tf_idf)"
   ]
  },
  {
   "cell_type": "markdown",
   "metadata": {},
   "source": [
    "# Exemplo\n",
    "\n",
    "Os códigos abaixo são de exemplo pois as funções deste Jupyter dependem das entradas que virão das outras equipes."
   ]
  },
  {
   "cell_type": "code",
   "execution_count": 5,
   "metadata": {},
   "outputs": [],
   "source": [
    "todas_palavras_e_seus_vertices = {\n",
    "  'brincar': ['feliz', 'escada', 'policia', 'mundo', 'parede', 'feliz'],\n",
    "  'correr': ['rua', 'parque', 'escada', 'noiva', 'aliança', 'mãe'],\n",
    "  'chutar': ['ladrao', 'parede', 'irmao', 'mundo', 'parque', 'feliz'],\n",
    "  'amar': ['noiva', 'esposa', 'parque', 'policia', 'esposa', 'rua'],\n",
    "  'gostar': ['noiva', 'esposa', 'irmao', 'mundo', 'parede', 'porta'],\n",
    "  'destruir': ['mundo', 'parede', 'porta', 'noiva', 'aliança', 'mãe'],\n",
    "  'noivar': ['noiva', 'aliança', 'mãe', 'mundo', 'parque', 'feliz'],\n",
    "  'matar': ['policia', 'ladrao', 'bandido', 'noiva', 'aliança', 'mãe'],\n",
    "  'cair': ['rua', 'porta', 'escada', 'mundo', 'parque', 'feliz'],\n",
    "  'morrer': ['policia', 'esposa', 'rua', 'mundo', 'parque', 'feliz'],\n",
    "  'viver': ['mundo', 'parque', 'feliz', 'noiva', 'aliança', 'mãe'],\n",
    "  'anoitecer' : ['rua', 'parque', 'irmao', 'mundo', 'parede', 'porta']\n",
    "}\n",
    "\n",
    "# TF-IDF\n",
    "pontos_centrais_e_seus_pesos = {\n",
    "    'brincar': 0.90,\n",
    "    'correr': 0.75,\n",
    "    'chutar': 0.60,\n",
    "    'amar': 0.45,\n",
    "    'gostar': 0.30,\n",
    "    'destruir': 0.11,\n",
    "    'noivar': 0.10,\n",
    "    'matar': 0.09,\n",
    "    'cair': 0.08,\n",
    "    'morrer': 0.07,\n",
    "    'viver': 0.06,\n",
    "    'anoitecer' : 0.05\n",
    "}"
   ]
  },
  {
   "cell_type": "code",
   "execution_count": 8,
   "metadata": {},
   "outputs": [],
   "source": [
    "qtd_pontos_centrais = int =  5\n",
    "draw_graphic(qtd_pontos_centrais, pontos_centrais_e_seus_pesos, todas_palavras_e_seus_vertices)"
   ]
  }
 ],
 "metadata": {
  "interpreter": {
   "hash": "0c715bfb9df34512991fce63625278dda66c51e5dbc1dbfc046f1bef2d1eb027"
  },
  "kernelspec": {
   "display_name": "Python 3.9.12 ('IAtlantico')",
   "language": "python",
   "name": "python3"
  },
  "language_info": {
   "codemirror_mode": {
    "name": "ipython",
    "version": 3
   },
   "file_extension": ".py",
   "mimetype": "text/x-python",
   "name": "python",
   "nbconvert_exporter": "python",
   "pygments_lexer": "ipython3",
   "version": "3.9.12"
  },
  "orig_nbformat": 4
 },
 "nbformat": 4,
 "nbformat_minor": 2
}
